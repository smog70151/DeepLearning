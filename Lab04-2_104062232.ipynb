{
 "cells": [
  {
   "cell_type": "code",
   "execution_count": 1,
   "metadata": {},
   "outputs": [
    {
     "name": "stderr",
     "output_type": "stream",
     "text": [
      "/usr/local/lib/python2.7/site-packages/sklearn/ensemble/weight_boosting.py:29: DeprecationWarning: numpy.core.umath_tests is an internal NumPy module and should not be imported. It will be removed in a future NumPy release.\n",
      "  from numpy.core.umath_tests import inner1d\n"
     ]
    }
   ],
   "source": [
    "# Header File\n",
    "\n",
    "from IPython.display import Image\n",
    "import pandas as pd\n",
    "import matplotlib.pyplot as plt\n",
    "from sklearn.linear_model import LinearRegression\n",
    "from sklearn.preprocessing import PolynomialFeatures\n",
    "from sklearn.model_selection import train_test_split\n",
    "from sklearn.preprocessing import StandardScaler\n",
    "from sklearn.metrics import r2_score\n",
    "from sklearn.metrics import mean_squared_error\n",
    "from sklearn.model_selection import train_test_split\n",
    "import numpy as np\n",
    "from sklearn.ensemble import RandomForestRegressor\n",
    "\n",
    "\n",
    "# inline plotting instead of popping out\n",
    "%matplotlib inline\n"
   ]
  },
  {
   "cell_type": "markdown",
   "metadata": {},
   "source": [
    "# Data Preprocessing"
   ]
  },
  {
   "cell_type": "code",
   "execution_count": 2,
   "metadata": {
    "scrolled": false
   },
   "outputs": [
    {
     "name": "stdout",
     "output_type": "stream",
     "text": [
      "#Training data points: 1491\n",
      "#Testing data points: 11\n"
     ]
    }
   ],
   "source": [
    "# Load Data & Data Prepocess\n",
    "df = pd.read_csv(\n",
    "    'http://archive.ics.uci.edu/ml/machine-learning-databases/00381/PRSA_data_2010.1.1-2014.12.31.csv',\n",
    "    sep=',')\n",
    "\n",
    "df.head()\n",
    "\n",
    "df = df.drop(['cbwd'], axis=1)  # drop non-scalar feature\n",
    "df = df.dropna(axis=0, how='any')  # drop samples who has nan feature\n",
    "df.head()\n",
    "\n",
    "idx = np.logical_or(\n",
    "    np.logical_and(df['year'].values == 2014, df['month'].values < 3),\n",
    "    np.logical_and(df['year'].values == 2013, df['month'].values == 12))\n",
    "X = df.loc[idx].drop('pm2.5', axis=1)\n",
    "y = df.loc[idx]['pm2.5'].values\n",
    "\n",
    "# PCA \n",
    "\"\"\"\n",
    "sc = StandardScaler()\n",
    "Z = sc.fit_transform(X)\n",
    "print(X.shape[1])\n",
    "R = np.dot(Z.T, Z) / X.shape[0]\n",
    "eigen_vals, eigen_vecs = np.linalg.eigh(R)\n",
    "eigen_pairs = [(np.abs(eigen_vals[i]), eigen_vecs[:,i]) for i in range(len(eigen_vals))]\n",
    "eigen_pairs.sort(reverse=True)\n",
    "W_4D = np.hstack((eigen_pairs[0][1][:, np.newaxis],\n",
    "                  eigen_pairs[1][1][:, np.newaxis],\n",
    "                  eigen_pairs[2][1][:, np.newaxis],\n",
    "                  eigen_pairs[3][1][:, np.newaxis]))\n",
    "Z_pca4 = Z.dot(W_4D)\n",
    "\"\"\"\n",
    "\n",
    "X_train, X_test, y_train, y_test = train_test_split(\n",
    "    X, y, test_size=0.3, random_state=25)\n",
    "\n",
    "print('#Training data points: %d' % X_train.shape[0])\n",
    "print('#Testing data points: %d' % X_test.shape[1])\n",
    "\n",
    "# Standardization\n",
    "\n",
    "sc_X = StandardScaler()\n",
    "sc_X.fit(X_train)\n",
    "X_train_std = sc_X.transform(X_train)\n",
    "X_test_std = sc_X.transform(X_test)\n",
    "\n",
    "sc_y = StandardScaler()\n",
    "y_train_std = sc_y.fit_transform(y_train[:, np.newaxis]).flatten()\n",
    "y_test_std = sc_y.transform(y_test[:, np.newaxis]).flatten()\n",
    "\n",
    "# sc_y = StandardScaler()\n",
    "# sc_y.fit(y_train[:, np.newaxis])\n",
    "# y_train_std = sc_y.transform(y_train[:, np.newaxis]).flatten()\n",
    "# y_test_std = sc_y.transform(y_test[:, np.newaxis]).flatten()\n"
   ]
  },
  {
   "cell_type": "markdown",
   "metadata": {},
   "source": [
    "# Polynomial Regression"
   ]
  },
  {
   "cell_type": "code",
   "execution_count": 3,
   "metadata": {},
   "outputs": [],
   "source": [
    "class LinearRegressionGD(object):\n",
    "    \n",
    "    def __init__(self, eta=1.0, n_iter=10000, random_state=0):\n",
    "        self.eta = eta\n",
    "        self.n_iter = n_iter\n",
    "        self.random_state = random_state\n",
    "        self.eps = 1e-8\n",
    "        \n",
    "    def fit(self, X, y):\n",
    "        rgen = np.random.RandomState(self.random_state)\n",
    "        self.w_ = rgen.normal(loc=0.0, scale=0.001, size=1 + X.shape[1])\n",
    "        self.cost_ = []\n",
    "        self.l_ = np.zeros(1 + X.shape[1])\n",
    "\n",
    "        for i in range(self.n_iter):\n",
    "            output = self.net_input(X)\n",
    "            errors = (y - output)\n",
    "            # print(errors, y, output)\n",
    "            self.l_[1:] += np.sqrt(X.T.dot(errors)**2)\n",
    "            self.l_[0] += np.sqrt(errors.sum()**2)\n",
    "            self.w_[1:] +=  self.eta * X.T.dot(errors) / self.l_[1:]\n",
    "            self.w_[0] +=  self.eta * errors.sum() / self.l_[0]\n",
    "            cost = (errors**2).sum() / len(y)\n",
    "            self.cost_.append(cost)\n",
    "        return self\n",
    "\n",
    "    def net_input(self, X):\n",
    "        \n",
    "        return np.dot(X, self.w_[1:]) + self.w_[0]\n",
    "\n",
    "    def predict(self, X):\n",
    "        return self.net_input(X)"
   ]
  },
  {
   "cell_type": "code",
   "execution_count": 14,
   "metadata": {},
   "outputs": [
    {
     "name": "stdout",
     "output_type": "stream",
     "text": [
      "MSE train: 0.27, test: 0.29\n",
      "R^2 train: 0.73, test: 0.73\n",
      "--- random state 7 test Pass !!! ---\n"
     ]
    },
    {
     "data": {
      "image/png": "[encoded data removed]",
      "text/plain": [
       "<Figure size 432x288 with 1 Axes>"
      ]
     },
     "metadata": {
      "needs_background": "light"
     },
     "output_type": "display_data"
    }
   ],
   "source": [
    "\n",
    "poly = PolynomialFeatures(degree=3)\n",
    "X_poly_std = poly.fit(X_train_std) \n",
    "X_poly_train = X_poly_std.transform(X_train_std)\n",
    "X_poly_test  = X_poly_std.transform(X_test_std)\n",
    "\n",
    "poly4Regr = LinearRegressionGD(random_state=7)\n",
    "poly4Regr.fit(X_poly_train, y_train_std)\n",
    "\n",
    "poly4Regr_r2 =  r2_score(y_train_std, poly4Regr.predict(X_poly_train))\n",
    "\n",
    "y_train_pred = poly4Regr.predict(X_poly_train)\n",
    "y_test_pred = poly4Regr.predict(X_poly_test)\n",
    "\n",
    "if r2_score(y_test_std, y_test_pred) > 0.71:\n",
    "\n",
    "    print('MSE train: %.2f, test: %.2f' %\n",
    "          (mean_squared_error(y_train_std, y_train_pred),\n",
    "           mean_squared_error(y_test_std, y_test_pred)))\n",
    "    print('R^2 train: %.2f, test: %.2f' % (r2_score(y_train_std, y_train_pred),\n",
    "                                           r2_score(y_test_std, y_test_pred)))\n",
    "    isPass = True\n",
    "    print('--- random state 7 test Pass !!! ---')\n",
    "    \n",
    "\n",
    "plt.scatter(\n",
    "    y_train_pred,\n",
    "    y_train_pred - y_train_std,\n",
    "    c='blue',\n",
    "    marker='o',\n",
    "    label='Training data')\n",
    "plt.scatter(\n",
    "    y_test_pred,\n",
    "    y_test_pred - y_test_std,\n",
    "    c='lightgreen',\n",
    "    marker='s',\n",
    "    label='Test data')\n",
    "\n",
    "plt.xlabel('Predicted values')\n",
    "plt.ylabel('Residuals')\n",
    "plt.legend(loc='upper left')\n",
    "plt.hlines(y=0, xmin=-2, xmax=2, lw=2, color='red')\n",
    "plt.xlim([-2, 2])\n",
    "plt.ylim([-2, 2])\n",
    "plt.tight_layout()\n",
    "plt.show()"
   ]
  },
  {
   "cell_type": "markdown",
   "metadata": {},
   "source": [
    "### Random Forest"
   ]
  },
  {
   "cell_type": "code",
   "execution_count": 5,
   "metadata": {},
   "outputs": [
    {
     "name": "stdout",
     "output_type": "stream",
     "text": [
      "MSE train: 187.74, test: 1045.70\n",
      "R^2 train: 0.99, test: 0.94\n"
     ]
    },
    {
     "data": {
      "image/png": "[encoded data removed]",
      "text/plain": [
       "<Figure size 432x288 with 1 Axes>"
      ]
     },
     "metadata": {
      "needs_background": "light"
     },
     "output_type": "display_data"
    }
   ],
   "source": [
    "forest = RandomForestRegressor(\n",
    "    n_estimators=1000, criterion='mse', random_state=1, n_jobs=-1)\n",
    "forest.fit(X_train_std, y_train)\n",
    "y_train_pred = forest.predict(X_train_std)\n",
    "y_test_pred = forest.predict(X_test_std)\n",
    "\n",
    "print('MSE train: %.2f, test: %.2f' %\n",
    "      (mean_squared_error(y_train, y_train_pred),\n",
    "       mean_squared_error(y_test, y_test_pred)))\n",
    "print('R^2 train: %.2f, test: %.2f' % (r2_score(y_train, y_train_pred),\n",
    "                                       r2_score(y_test, y_test_pred)))\n",
    "\n",
    "# Residual plot\n",
    "plt.scatter(\n",
    "    y_train_pred,\n",
    "    y_train_pred - y_train,\n",
    "    c='blue',\n",
    "    marker='o',\n",
    "    label='Training data')\n",
    "plt.scatter(\n",
    "    y_test_pred, y_test_pred - y_test, c='green', marker='s', label='Test data')\n",
    "\n",
    "plt.xlabel('Predicted values')\n",
    "plt.ylabel('Residuals')\n",
    "plt.legend(loc='upper left')\n",
    "plt.hlines(y=0, xmin=-10, xmax=100, lw=2, color='red')\n",
    "plt.xlim([0, 100])\n",
    "plt.ylim([-100, 100])\n",
    "plt.tight_layout()\n",
    "plt.show()"
   ]
  },
  {
   "cell_type": "code",
   "execution_count": null,
   "metadata": {},
   "outputs": [],
   "source": []
  }
 ],
 "metadata": {
  "kernelspec": {
   "display_name": "Python 3",
   "language": "python",
   "name": "python3"
  },
  "language_info": {
   "codemirror_mode": {
    "name": "ipython",
    "version": 2
   },
   "file_extension": ".py",
   "mimetype": "text/x-python",
   "name": "python",
   "nbconvert_exporter": "python",
   "pygments_lexer": "ipython2",
   "version": "2.7.15"
  }
 },
 "nbformat": 4,
 "nbformat_minor": 2
}
