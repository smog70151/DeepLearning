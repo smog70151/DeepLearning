{
 "cells": [
  {
   "cell_type": "code",
   "execution_count": 63,
   "metadata": {},
   "outputs": [],
   "source": [
    "# Header File\n",
    "\n",
    "from sklearn.tree import DecisionTreeClassifier\n",
    "from sklearn.model_selection import train_test_split\n",
    "from sklearn.datasets import load_breast_cancer\n",
    "import pandas as pd\n",
    "from sklearn.metrics import accuracy_score\n",
    "from sklearn.ensemble import RandomForestClassifier\n",
    "from sklearn.preprocessing import StandardScaler\n",
    "import seaborn as sns\n",
    "import numpy as np\n",
    "from sklearn.feature_selection import SelectFromModel\n"
   ]
  },
  {
   "cell_type": "code",
   "execution_count": 64,
   "metadata": {},
   "outputs": [
    {
     "name": "stdout",
     "output_type": "stream",
     "text": [
      "Accuracy: 0.91\n",
      "Accuracy per feature: 0.46\n"
     ]
    }
   ],
   "source": [
    "## PCA \n",
    "# Load Raw Data\n",
    "\n",
    "(X, Y) = load_breast_cancer(return_X_y=True)\n",
    "\n",
    "# Dimension reduction\n",
    "\n",
    "sc = StandardScaler()\n",
    "Z = sc.fit_transform(X)\n",
    "# Estimate the correlation matrix\n",
    "R = np.dot(Z.T, Z) / X.shape[0]\n",
    "#calculate the eigen values, eigen vectors\n",
    "eigen_vals, eigen_vecs = np.linalg.eigh(R)\n",
    "# Make a list of (eigenvalue, eigenvector) tuples\n",
    "eigen_pairs = [(np.abs(eigen_vals[i]), eigen_vecs[:,i]) for i in range(len(eigen_vals))]\n",
    "# Sort the (eigenvalue, eigenvector) tuples from high to low\n",
    "eigen_pairs.sort(reverse=True)\n",
    "\n",
    "W_3D = np.hstack((eigen_pairs[0][1][:, np.newaxis],\n",
    "                  eigen_pairs[1][1][:, np.newaxis]))\n",
    "\n",
    "Z_pca3 = Z.dot(W_3D)\n",
    "\n",
    "X_train, X_test, y_train, y_test = train_test_split(Z_pca3, Y, test_size=0.3, random_state=0)\n",
    "\n",
    "# Train a RandomForestClassifier as model \n",
    "forest = RandomForestClassifier(criterion='entropy',\n",
    "                                n_estimators=200, \n",
    "                                random_state=1,\n",
    "                                n_jobs=2)\n",
    "forest.fit(X_train, y_train)\n",
    "\n",
    "y_pred = forest.predict(X_test)\n",
    "print('Accuracy: %.2f' % accuracy_score(y_test, y_pred))\n",
    "print('Accuracy per feature: %.2f' % (accuracy_score(y_test, y_pred)/X_train.shape[1]))\n",
    "\n"
   ]
  },
  {
   "cell_type": "code",
   "execution_count": 65,
   "metadata": {},
   "outputs": [
    {
     "name": "stdout",
     "output_type": "stream",
     "text": [
      "Accuracy: 0.89\n",
      "Accuracy per feature: 0.44\n"
     ]
    }
   ],
   "source": [
    "## Select importance\n",
    "# Load Raw Data\n",
    "\n",
    "init_data = load_breast_cancer()\n",
    "(X, Y) = load_breast_cancer(return_X_y=True)\n",
    "\n",
    "X_train, X_test, Y_train, Y_test = train_test_split(X, Y, test_size=0.3, random_state=0)\n",
    "\n",
    "forest = RandomForestClassifier(criterion='entropy',\n",
    "                                n_estimators=200, \n",
    "                                random_state=1,\n",
    "                                n_jobs=2)\n",
    "forest.fit(X_train, Y_train)\n",
    "\n",
    "Y_pred = forest.predict(X_test)\n",
    "\n",
    "importances = forest.feature_importances_\n",
    "\n",
    "indices = np.argsort(importances)[::-1]\n",
    "\n",
    "\n",
    "sfm = SelectFromModel(forest, threshold=importances[indices[1]], prefit=True)\n",
    "Z_forest_alt = sfm.transform(X)\n",
    "\n",
    "X_train, X_test, Y_train, Y_test = train_test_split(Z_forest_alt, Y, test_size=0.3, random_state=0)\n",
    "\n",
    "temp = RandomForestClassifier(criterion='entropy',\n",
    "                                n_estimators=200, \n",
    "                                random_state=1,\n",
    "                                n_jobs=2)\n",
    "temp.fit(X_train, Y_train)\n",
    "\n",
    "Y_pred = temp.predict(X_test)\n",
    "print('Accuracy: %.2f' % accuracy_score(Y_test, Y_pred))\n",
    "print('Accuracy per feature: %.2f' % (accuracy_score(Y_test, Y_pred)/X_train.shape[1]))\n",
    "\n",
    "\n"
   ]
  },
  {
   "cell_type": "code",
   "execution_count": null,
   "metadata": {},
   "outputs": [],
   "source": []
  }
 ],
 "metadata": {
  "kernelspec": {
   "display_name": "Python 2",
   "language": "python",
   "name": "python2"
  },
  "language_info": {
   "codemirror_mode": {
    "name": "ipython",
    "version": 2
   },
   "file_extension": ".py",
   "mimetype": "text/x-python",
   "name": "python",
   "nbconvert_exporter": "python",
   "pygments_lexer": "ipython2",
   "version": "2.7.15"
  }
 },
 "nbformat": 4,
 "nbformat_minor": 2
}
